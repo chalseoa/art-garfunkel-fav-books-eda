{
 "cells": [
  {
   "cell_type": "code",
   "execution_count": 1,
   "id": "d5f0f865",
   "metadata": {
    "_cell_guid": "b1076dfc-b9ad-4769-8c92-a6c4dae69d19",
    "_uuid": "8f2839f25d086af736a60e9eeb907d3b93b6e0e5",
    "execution": {
     "iopub.execute_input": "2023-09-11T03:14:52.443291Z",
     "iopub.status.busy": "2023-09-11T03:14:52.442842Z",
     "iopub.status.idle": "2023-09-11T03:14:54.427288Z",
     "shell.execute_reply": "2023-09-11T03:14:54.426126Z"
    },
    "papermill": {
     "duration": 1.995667,
     "end_time": "2023-09-11T03:14:54.430203",
     "exception": false,
     "start_time": "2023-09-11T03:14:52.434536",
     "status": "completed"
    },
    "tags": []
   },
   "outputs": [],
   "source": [
    "import numpy as np \n",
    "import pandas as pd \n",
    "\n",
    "import seaborn as sns\n",
    "import matplotlib.pyplot as plt"
   ]
  },
  {
   "cell_type": "code",
   "execution_count": 2,
   "id": "6cc20f9a",
   "metadata": {
    "execution": {
     "iopub.execute_input": "2023-09-11T03:14:54.444623Z",
     "iopub.status.busy": "2023-09-11T03:14:54.443585Z",
     "iopub.status.idle": "2023-09-11T03:14:54.495416Z",
     "shell.execute_reply": "2023-09-11T03:14:54.494223Z"
    },
    "papermill": {
     "duration": 0.06232,
     "end_time": "2023-09-11T03:14:54.498790",
     "exception": false,
     "start_time": "2023-09-11T03:14:54.436470",
     "status": "completed"
    },
    "tags": []
   },
   "outputs": [
    {
     "data": {
      "text/html": [
       "<div>\n",
       "<style scoped>\n",
       "    .dataframe tbody tr th:only-of-type {\n",
       "        vertical-align: middle;\n",
       "    }\n",
       "\n",
       "    .dataframe tbody tr th {\n",
       "        vertical-align: top;\n",
       "    }\n",
       "\n",
       "    .dataframe thead th {\n",
       "        text-align: right;\n",
       "    }\n",
       "</style>\n",
       "<table border=\"1\" class=\"dataframe\">\n",
       "  <thead>\n",
       "    <tr style=\"text-align: right;\">\n",
       "      <th></th>\n",
       "      <th>Date Read</th>\n",
       "      <th>Author</th>\n",
       "      <th>Books</th>\n",
       "      <th>Year Published</th>\n",
       "      <th>Pages</th>\n",
       "      <th>Favorite</th>\n",
       "    </tr>\n",
       "  </thead>\n",
       "  <tbody>\n",
       "    <tr>\n",
       "      <th>0</th>\n",
       "      <td>Jun-68</td>\n",
       "      <td>Jean-Jacques Rousseau</td>\n",
       "      <td>The Confessions</td>\n",
       "      <td>1781</td>\n",
       "      <td>606</td>\n",
       "      <td>1</td>\n",
       "    </tr>\n",
       "    <tr>\n",
       "      <th>1</th>\n",
       "      <td>Jun-68</td>\n",
       "      <td>Erich Fromm</td>\n",
       "      <td>The Art of Loving</td>\n",
       "      <td>1956</td>\n",
       "      <td>146</td>\n",
       "      <td>1</td>\n",
       "    </tr>\n",
       "    <tr>\n",
       "      <th>2</th>\n",
       "      <td>Jun-68</td>\n",
       "      <td>Mark Twain</td>\n",
       "      <td>The Adventures of Huckleberry Finn</td>\n",
       "      <td>1884</td>\n",
       "      <td>288</td>\n",
       "      <td>0</td>\n",
       "    </tr>\n",
       "    <tr>\n",
       "      <th>3</th>\n",
       "      <td>Jul-68</td>\n",
       "      <td>James Thurber</td>\n",
       "      <td>My Life and Hard Times</td>\n",
       "      <td>1933</td>\n",
       "      <td>115</td>\n",
       "      <td>0</td>\n",
       "    </tr>\n",
       "    <tr>\n",
       "      <th>4</th>\n",
       "      <td>Jul-68</td>\n",
       "      <td>William Shakespeare</td>\n",
       "      <td>Romeo and Juliet</td>\n",
       "      <td>1596</td>\n",
       "      <td>146</td>\n",
       "      <td>0</td>\n",
       "    </tr>\n",
       "  </tbody>\n",
       "</table>\n",
       "</div>"
      ],
      "text/plain": [
       "  Date Read                 Author                               Books  \\\n",
       "0    Jun-68  Jean-Jacques Rousseau                     The Confessions   \n",
       "1    Jun-68            Erich Fromm                   The Art of Loving   \n",
       "2    Jun-68             Mark Twain  The Adventures of Huckleberry Finn   \n",
       "3    Jul-68          James Thurber              My Life and Hard Times   \n",
       "4    Jul-68    William Shakespeare                    Romeo and Juliet   \n",
       "\n",
       "  Year Published  Pages  Favorite  \n",
       "0           1781    606         1  \n",
       "1           1956    146         1  \n",
       "2           1884    288         0  \n",
       "3           1933    115         0  \n",
       "4           1596    146         0  "
      ]
     },
     "execution_count": 2,
     "metadata": {},
     "output_type": "execute_result"
    }
   ],
   "source": [
    "library_df = pd.read_csv(\"/kaggle/input/art-garfunkels-library/Art Garfunkel Library.csv\")\n",
    "library_df.head()"
   ]
  },
  {
   "cell_type": "code",
   "execution_count": 3,
   "id": "649b5086",
   "metadata": {
    "execution": {
     "iopub.execute_input": "2023-09-11T03:14:54.512885Z",
     "iopub.status.busy": "2023-09-11T03:14:54.512153Z",
     "iopub.status.idle": "2023-09-11T03:14:54.529230Z",
     "shell.execute_reply": "2023-09-11T03:14:54.528091Z"
    },
    "papermill": {
     "duration": 0.027084,
     "end_time": "2023-09-11T03:14:54.531757",
     "exception": false,
     "start_time": "2023-09-11T03:14:54.504673",
     "status": "completed"
    },
    "tags": []
   },
   "outputs": [
    {
     "data": {
      "text/plain": [
       "array([1968, 1969, 1970, 1971, 1972, 1973, 1974, 1975, 1976, 1977, 1978,\n",
       "       1979, 1980, 1981, 1982, 1983, 1984, 1985, 1986, 1987, 1988, 1989,\n",
       "       1990, 1991, 1992, 2022, 1993, 1994, 1995, 1996, 1997, 1998, 1999,\n",
       "       2000, 2001, 2002, 2003, 2004, 2005, 2006, 2007, 2008, 2009, 2010,\n",
       "       2011, 2012, 2013, 2014, 2015, 2016, 2017, 2018, 2019, 2020, 2021])"
      ]
     },
     "execution_count": 3,
     "metadata": {},
     "output_type": "execute_result"
    }
   ],
   "source": [
    "# Separates date and year into separate columns\n",
    "def get_year_from_date_read_column(date):\n",
    "    year_date_split = date.split('-')\n",
    "    if len(year_date_split) == 2:\n",
    "        year = int(year_date_split[1])\n",
    "        if year < 41: # Art's Year of Birth: 1941\n",
    "            return 2000 + year\n",
    "        else :\n",
    "            return 1900 + year\n",
    "    else:\n",
    "        return int(date)\n",
    "    \n",
    "library_df['Year Read'] = library_df['Date Read'].apply(lambda date: get_year_from_date_read_column(date))\n",
    "library_df['Year Read'].unique()"
   ]
  },
  {
   "cell_type": "code",
   "execution_count": 4,
   "id": "623a2bbd",
   "metadata": {
    "execution": {
     "iopub.execute_input": "2023-09-11T03:14:54.546565Z",
     "iopub.status.busy": "2023-09-11T03:14:54.545929Z",
     "iopub.status.idle": "2023-09-11T03:14:54.558669Z",
     "shell.execute_reply": "2023-09-11T03:14:54.557579Z"
    },
    "papermill": {
     "duration": 0.022803,
     "end_time": "2023-09-11T03:14:54.561010",
     "exception": false,
     "start_time": "2023-09-11T03:14:54.538207",
     "status": "completed"
    },
    "tags": []
   },
   "outputs": [
    {
     "data": {
      "text/plain": [
       "array(['Jun', 'Jul', 'Aug', 'Sep', 'Oct', 'Nov', 'Dec', 'Jan', 'Feb',\n",
       "       'May', 'Mar', 'Apr', nan], dtype=object)"
      ]
     },
     "execution_count": 4,
     "metadata": {},
     "output_type": "execute_result"
    }
   ],
   "source": [
    "def get_month_from_date_read_column(date):\n",
    "    month_date_split = date.split('-')\n",
    "    if len(month_date_split) == 2:\n",
    "        return month_date_split[0]\n",
    "    else:\n",
    "        return np.nan\n",
    "\n",
    "library_df['Month Read'] = library_df['Date Read'].apply(lambda date: get_month_from_date_read_column(date))\n",
    "library_df['Month Read'].unique()"
   ]
  },
  {
   "cell_type": "code",
   "execution_count": 5,
   "id": "9a42e3a0",
   "metadata": {
    "execution": {
     "iopub.execute_input": "2023-09-11T03:14:54.575547Z",
     "iopub.status.busy": "2023-09-11T03:14:54.574802Z",
     "iopub.status.idle": "2023-09-11T03:14:54.608565Z",
     "shell.execute_reply": "2023-09-11T03:14:54.607704Z"
    },
    "papermill": {
     "duration": 0.043852,
     "end_time": "2023-09-11T03:14:54.611076",
     "exception": false,
     "start_time": "2023-09-11T03:14:54.567224",
     "status": "completed"
    },
    "tags": []
   },
   "outputs": [
    {
     "data": {
      "text/html": [
       "<div>\n",
       "<style scoped>\n",
       "    .dataframe tbody tr th:only-of-type {\n",
       "        vertical-align: middle;\n",
       "    }\n",
       "\n",
       "    .dataframe tbody tr th {\n",
       "        vertical-align: top;\n",
       "    }\n",
       "\n",
       "    .dataframe thead th {\n",
       "        text-align: right;\n",
       "    }\n",
       "</style>\n",
       "<table border=\"1\" class=\"dataframe\">\n",
       "  <thead>\n",
       "    <tr style=\"text-align: right;\">\n",
       "      <th></th>\n",
       "      <th>Date Read</th>\n",
       "      <th>Author</th>\n",
       "      <th>Books</th>\n",
       "      <th>Year Published</th>\n",
       "      <th>Month Read</th>\n",
       "    </tr>\n",
       "  </thead>\n",
       "  <tbody>\n",
       "    <tr>\n",
       "      <th>count</th>\n",
       "      <td>1321</td>\n",
       "      <td>1321</td>\n",
       "      <td>1321</td>\n",
       "      <td>1321</td>\n",
       "      <td>1196</td>\n",
       "    </tr>\n",
       "    <tr>\n",
       "      <th>unique</th>\n",
       "      <td>494</td>\n",
       "      <td>966</td>\n",
       "      <td>1305</td>\n",
       "      <td>329</td>\n",
       "      <td>12</td>\n",
       "    </tr>\n",
       "    <tr>\n",
       "      <th>top</th>\n",
       "      <td>2008</td>\n",
       "      <td>William Shakespeare</td>\n",
       "      <td>The Confessions</td>\n",
       "      <td>1988</td>\n",
       "      <td>Dec</td>\n",
       "    </tr>\n",
       "    <tr>\n",
       "      <th>freq</th>\n",
       "      <td>34</td>\n",
       "      <td>15</td>\n",
       "      <td>3</td>\n",
       "      <td>21</td>\n",
       "      <td>123</td>\n",
       "    </tr>\n",
       "  </tbody>\n",
       "</table>\n",
       "</div>"
      ],
      "text/plain": [
       "       Date Read               Author            Books Year Published  \\\n",
       "count       1321                 1321             1321           1321   \n",
       "unique       494                  966             1305            329   \n",
       "top         2008  William Shakespeare  The Confessions           1988   \n",
       "freq          34                   15                3             21   \n",
       "\n",
       "       Month Read  \n",
       "count        1196  \n",
       "unique         12  \n",
       "top           Dec  \n",
       "freq          123  "
      ]
     },
     "execution_count": 5,
     "metadata": {},
     "output_type": "execute_result"
    }
   ],
   "source": [
    "library_df.describe(include=\"object\")"
   ]
  },
  {
   "cell_type": "code",
   "execution_count": 6,
   "id": "2464ceb6",
   "metadata": {
    "execution": {
     "iopub.execute_input": "2023-09-11T03:14:54.626886Z",
     "iopub.status.busy": "2023-09-11T03:14:54.626103Z",
     "iopub.status.idle": "2023-09-11T03:14:54.869391Z",
     "shell.execute_reply": "2023-09-11T03:14:54.868574Z"
    },
    "papermill": {
     "duration": 0.253679,
     "end_time": "2023-09-11T03:14:54.871595",
     "exception": false,
     "start_time": "2023-09-11T03:14:54.617916",
     "status": "completed"
    },
    "tags": []
   },
   "outputs": [
    {
     "data": {
      "image/png": "[encoded data removed]",
      "text/plain": [
       "<Figure size 640x480 with 1 Axes>"
      ]
     },
     "metadata": {},
     "output_type": "display_data"
    }
   ],
   "source": [
    "sns.countplot(y=library_df['Favorite'] ,data=library_df)\n",
    "plt.xlabel(\"# Favorite Books\")\n",
    "plt.ylabel(\"Art's Favorite Books?\")\n",
    "plt.show()"
   ]
  },
  {
   "cell_type": "code",
   "execution_count": 7,
   "id": "5c37ac0f",
   "metadata": {
    "execution": {
     "iopub.execute_input": "2023-09-11T03:14:54.887994Z",
     "iopub.status.busy": "2023-09-11T03:14:54.887238Z",
     "iopub.status.idle": "2023-09-11T03:14:55.405529Z",
     "shell.execute_reply": "2023-09-11T03:14:55.404428Z"
    },
    "papermill": {
     "duration": 0.529512,
     "end_time": "2023-09-11T03:14:55.408149",
     "exception": false,
     "start_time": "2023-09-11T03:14:54.878637",
     "status": "completed"
    },
    "tags": []
   },
   "outputs": [
    {
     "data": {
      "image/png": "[encoded data removed]",
      "text/plain": [
       "<Figure size 640x480 with 2 Axes>"
      ]
     },
     "metadata": {},
     "output_type": "display_data"
    }
   ],
   "source": [
    "library_df[['Pages', 'Year Read']].hist(bins = 15)\n",
    "plt.show()"
   ]
  },
  {
   "cell_type": "code",
   "execution_count": 8,
   "id": "726f977b",
   "metadata": {
    "execution": {
     "iopub.execute_input": "2023-09-11T03:14:55.425381Z",
     "iopub.status.busy": "2023-09-11T03:14:55.424939Z",
     "iopub.status.idle": "2023-09-11T03:14:55.440047Z",
     "shell.execute_reply": "2023-09-11T03:14:55.439106Z"
    },
    "papermill": {
     "duration": 0.026413,
     "end_time": "2023-09-11T03:14:55.442204",
     "exception": false,
     "start_time": "2023-09-11T03:14:55.415791",
     "status": "completed"
    },
    "tags": []
   },
   "outputs": [
    {
     "data": {
      "text/html": [
       "<div>\n",
       "<style scoped>\n",
       "    .dataframe tbody tr th:only-of-type {\n",
       "        vertical-align: middle;\n",
       "    }\n",
       "\n",
       "    .dataframe tbody tr th {\n",
       "        vertical-align: top;\n",
       "    }\n",
       "\n",
       "    .dataframe thead th {\n",
       "        text-align: right;\n",
       "    }\n",
       "</style>\n",
       "<table border=\"1\" class=\"dataframe\">\n",
       "  <thead>\n",
       "    <tr style=\"text-align: right;\">\n",
       "      <th></th>\n",
       "      <th>Date Read</th>\n",
       "      <th>Author</th>\n",
       "      <th>Books</th>\n",
       "      <th>Year Published</th>\n",
       "      <th>Pages</th>\n",
       "      <th>Favorite</th>\n",
       "      <th>Year Read</th>\n",
       "      <th>Month Read</th>\n",
       "    </tr>\n",
       "  </thead>\n",
       "  <tbody>\n",
       "    <tr>\n",
       "      <th>0</th>\n",
       "      <td>Jun-68</td>\n",
       "      <td>Jean-Jacques Rousseau</td>\n",
       "      <td>The Confessions</td>\n",
       "      <td>1781</td>\n",
       "      <td>606</td>\n",
       "      <td>1</td>\n",
       "      <td>1968</td>\n",
       "      <td>Jun</td>\n",
       "    </tr>\n",
       "    <tr>\n",
       "      <th>1</th>\n",
       "      <td>Jun-68</td>\n",
       "      <td>Erich Fromm</td>\n",
       "      <td>The Art of Loving</td>\n",
       "      <td>1956</td>\n",
       "      <td>146</td>\n",
       "      <td>1</td>\n",
       "      <td>1968</td>\n",
       "      <td>Jun</td>\n",
       "    </tr>\n",
       "    <tr>\n",
       "      <th>2</th>\n",
       "      <td>Jun-68</td>\n",
       "      <td>Mark Twain</td>\n",
       "      <td>The Adventures of Huckleberry Finn</td>\n",
       "      <td>1884</td>\n",
       "      <td>288</td>\n",
       "      <td>0</td>\n",
       "      <td>1968</td>\n",
       "      <td>Jun</td>\n",
       "    </tr>\n",
       "    <tr>\n",
       "      <th>3</th>\n",
       "      <td>Jul-68</td>\n",
       "      <td>James Thurber</td>\n",
       "      <td>My Life and Hard Times</td>\n",
       "      <td>1933</td>\n",
       "      <td>115</td>\n",
       "      <td>0</td>\n",
       "      <td>1968</td>\n",
       "      <td>Jul</td>\n",
       "    </tr>\n",
       "    <tr>\n",
       "      <th>4</th>\n",
       "      <td>Jul-68</td>\n",
       "      <td>William Shakespeare</td>\n",
       "      <td>Romeo and Juliet</td>\n",
       "      <td>1596</td>\n",
       "      <td>146</td>\n",
       "      <td>0</td>\n",
       "      <td>1968</td>\n",
       "      <td>Jul</td>\n",
       "    </tr>\n",
       "  </tbody>\n",
       "</table>\n",
       "</div>"
      ],
      "text/plain": [
       "  Date Read                 Author                               Books  \\\n",
       "0    Jun-68  Jean-Jacques Rousseau                     The Confessions   \n",
       "1    Jun-68            Erich Fromm                   The Art of Loving   \n",
       "2    Jun-68             Mark Twain  The Adventures of Huckleberry Finn   \n",
       "3    Jul-68          James Thurber              My Life and Hard Times   \n",
       "4    Jul-68    William Shakespeare                    Romeo and Juliet   \n",
       "\n",
       "  Year Published  Pages  Favorite  Year Read Month Read  \n",
       "0           1781    606         1       1968        Jun  \n",
       "1           1956    146         1       1968        Jun  \n",
       "2           1884    288         0       1968        Jun  \n",
       "3           1933    115         0       1968        Jul  \n",
       "4           1596    146         0       1968        Jul  "
      ]
     },
     "execution_count": 8,
     "metadata": {},
     "output_type": "execute_result"
    }
   ],
   "source": [
    "library_df.head()"
   ]
  },
  {
   "cell_type": "code",
   "execution_count": 9,
   "id": "f5b734b3",
   "metadata": {
    "execution": {
     "iopub.execute_input": "2023-09-11T03:14:55.460472Z",
     "iopub.status.busy": "2023-09-11T03:14:55.460007Z",
     "iopub.status.idle": "2023-09-11T03:14:56.351682Z",
     "shell.execute_reply": "2023-09-11T03:14:56.350528Z"
    },
    "papermill": {
     "duration": 0.904567,
     "end_time": "2023-09-11T03:14:56.355140",
     "exception": false,
     "start_time": "2023-09-11T03:14:55.450573",
     "status": "completed"
    },
    "tags": []
   },
   "outputs": [
    {
     "name": "stderr",
     "output_type": "stream",
     "text": [
      "/opt/conda/lib/python3.10/site-packages/seaborn/axisgrid.py:118: UserWarning: The figure layout has changed to tight\n",
      "  self._figure.tight_layout(*args, **kwargs)\n"
     ]
    },
    {
     "data": {
      "image/png": "[encoded data removed]",
      "text/plain": [
       "<Figure size 1000x500 with 2 Axes>"
      ]
     },
     "metadata": {},
     "output_type": "display_data"
    }
   ],
   "source": [
    "sns.displot(data=library_df, x=\"Year Read\", col=\"Favorite\", kde=True)\n",
    "plt.show()"
   ]
  },
  {
   "cell_type": "code",
   "execution_count": null,
   "id": "c73191b2",
   "metadata": {
    "papermill": {
     "duration": 0.0086,
     "end_time": "2023-09-11T03:14:56.373133",
     "exception": false,
     "start_time": "2023-09-11T03:14:56.364533",
     "status": "completed"
    },
    "tags": []
   },
   "outputs": [],
   "source": []
  }
 ],
 "kernelspec": {
  "display_name": "Python 3",
  "language": "python",
  "name": "python3"
 },
 "language_info": {
  "codemirror_mode": {
   "name": "ipython",
   "version": 3
  },
  "file_extension": ".py",
  "mimetype": "text/x-python",
  "name": "python",
  "nbconvert_exporter": "python",
  "pygments_lexer": "ipython3",
  "version": "3.6.4"
 },
 "metadata": {
  "kernelspec": {
   "display_name": "Python 3",
   "language": "python",
   "name": "python3"
  },
  "language_info": {
   "codemirror_mode": {
    "name": "ipython",
    "version": 3
   },
   "file_extension": ".py",
   "mimetype": "text/x-python",
   "name": "python",
   "nbconvert_exporter": "python",
   "pygments_lexer": "ipython3",
   "version": "3.10.12"
  },
  "papermill": {
   "default_parameters": {},
   "duration": 8.339422,
   "end_time": "2023-09-11T03:14:57.003274",
   "environment_variables": {},
   "exception": null,
   "input_path": "__notebook__.ipynb",
   "output_path": "__notebook__.ipynb",
   "parameters": {},
   "start_time": "2023-09-11T03:14:48.663852",
   "version": "2.4.0"
  }
 },
 "nbformat": 4,
 "nbformat_minor": 5
}
