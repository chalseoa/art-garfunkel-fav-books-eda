{
 "cells": [
  {
   "cell_type": "code",
   "execution_count": 1,
   "id": "a783e0fc",
   "metadata": {
    "_cell_guid": "b1076dfc-b9ad-4769-8c92-a6c4dae69d19",
    "_uuid": "8f2839f25d086af736a60e9eeb907d3b93b6e0e5",
    "execution": {
     "iopub.execute_input": "2023-09-11T19:46:57.137046Z",
     "iopub.status.busy": "2023-09-11T19:46:57.136582Z",
     "iopub.status.idle": "2023-09-11T19:46:59.635403Z",
     "shell.execute_reply": "2023-09-11T19:46:59.634159Z"
    },
    "papermill": {
     "duration": 2.510979,
     "end_time": "2023-09-11T19:46:59.638273",
     "exception": false,
     "start_time": "2023-09-11T19:46:57.127294",
     "status": "completed"
    },
    "tags": []
   },
   "outputs": [],
   "source": [
    "import numpy as np \n",
    "import pandas as pd \n",
    "\n",
    "from sklearn.preprocessing import StandardScaler, LabelEncoder, OneHotEncoder\n",
    "from sklearn.compose import ColumnTransformer, make_column_transformer\n",
    "\n",
    "import seaborn as sns\n",
    "import matplotlib.pyplot as plt\n",
    "\n",
    "plt.style.use(\"fivethirtyeight\")"
   ]
  },
  {
   "cell_type": "code",
   "execution_count": 2,
   "id": "a0ee38bc",
   "metadata": {
    "execution": {
     "iopub.execute_input": "2023-09-11T19:46:59.653067Z",
     "iopub.status.busy": "2023-09-11T19:46:59.652486Z",
     "iopub.status.idle": "2023-09-11T19:46:59.703416Z",
     "shell.execute_reply": "2023-09-11T19:46:59.702100Z"
    },
    "papermill": {
     "duration": 0.061408,
     "end_time": "2023-09-11T19:46:59.706344",
     "exception": false,
     "start_time": "2023-09-11T19:46:59.644936",
     "status": "completed"
    },
    "tags": []
   },
   "outputs": [
    {
     "data": {
      "text/html": [
       "<div>\n",
       "<style scoped>\n",
       "    .dataframe tbody tr th:only-of-type {\n",
       "        vertical-align: middle;\n",
       "    }\n",
       "\n",
       "    .dataframe tbody tr th {\n",
       "        vertical-align: top;\n",
       "    }\n",
       "\n",
       "    .dataframe thead th {\n",
       "        text-align: right;\n",
       "    }\n",
       "</style>\n",
       "<table border=\"1\" class=\"dataframe\">\n",
       "  <thead>\n",
       "    <tr style=\"text-align: right;\">\n",
       "      <th></th>\n",
       "      <th>Date Read</th>\n",
       "      <th>Author</th>\n",
       "      <th>Books</th>\n",
       "      <th>Year Published</th>\n",
       "      <th>Pages</th>\n",
       "      <th>Favorite</th>\n",
       "    </tr>\n",
       "  </thead>\n",
       "  <tbody>\n",
       "    <tr>\n",
       "      <th>0</th>\n",
       "      <td>Jun-68</td>\n",
       "      <td>Jean-Jacques Rousseau</td>\n",
       "      <td>The Confessions</td>\n",
       "      <td>1781</td>\n",
       "      <td>606</td>\n",
       "      <td>1</td>\n",
       "    </tr>\n",
       "    <tr>\n",
       "      <th>1</th>\n",
       "      <td>Jun-68</td>\n",
       "      <td>Erich Fromm</td>\n",
       "      <td>The Art of Loving</td>\n",
       "      <td>1956</td>\n",
       "      <td>146</td>\n",
       "      <td>1</td>\n",
       "    </tr>\n",
       "    <tr>\n",
       "      <th>2</th>\n",
       "      <td>Jun-68</td>\n",
       "      <td>Mark Twain</td>\n",
       "      <td>The Adventures of Huckleberry Finn</td>\n",
       "      <td>1884</td>\n",
       "      <td>288</td>\n",
       "      <td>0</td>\n",
       "    </tr>\n",
       "    <tr>\n",
       "      <th>3</th>\n",
       "      <td>Jul-68</td>\n",
       "      <td>James Thurber</td>\n",
       "      <td>My Life and Hard Times</td>\n",
       "      <td>1933</td>\n",
       "      <td>115</td>\n",
       "      <td>0</td>\n",
       "    </tr>\n",
       "    <tr>\n",
       "      <th>4</th>\n",
       "      <td>Jul-68</td>\n",
       "      <td>William Shakespeare</td>\n",
       "      <td>Romeo and Juliet</td>\n",
       "      <td>1596</td>\n",
       "      <td>146</td>\n",
       "      <td>0</td>\n",
       "    </tr>\n",
       "  </tbody>\n",
       "</table>\n",
       "</div>"
      ],
      "text/plain": [
       "  Date Read                 Author                               Books  \\\n",
       "0    Jun-68  Jean-Jacques Rousseau                     The Confessions   \n",
       "1    Jun-68            Erich Fromm                   The Art of Loving   \n",
       "2    Jun-68             Mark Twain  The Adventures of Huckleberry Finn   \n",
       "3    Jul-68          James Thurber              My Life and Hard Times   \n",
       "4    Jul-68    William Shakespeare                    Romeo and Juliet   \n",
       "\n",
       "  Year Published  Pages  Favorite  \n",
       "0           1781    606         1  \n",
       "1           1956    146         1  \n",
       "2           1884    288         0  \n",
       "3           1933    115         0  \n",
       "4           1596    146         0  "
      ]
     },
     "execution_count": 2,
     "metadata": {},
     "output_type": "execute_result"
    }
   ],
   "source": [
    "library_df = pd.read_csv(\"/kaggle/input/art-garfunkels-library/Art Garfunkel Library.csv\")\n",
    "library_df.head()"
   ]
  },
  {
   "cell_type": "code",
   "execution_count": 3,
   "id": "c7316a0e",
   "metadata": {
    "execution": {
     "iopub.execute_input": "2023-09-11T19:46:59.721821Z",
     "iopub.status.busy": "2023-09-11T19:46:59.721446Z",
     "iopub.status.idle": "2023-09-11T19:46:59.742170Z",
     "shell.execute_reply": "2023-09-11T19:46:59.741007Z"
    },
    "papermill": {
     "duration": 0.031488,
     "end_time": "2023-09-11T19:46:59.744509",
     "exception": false,
     "start_time": "2023-09-11T19:46:59.713021",
     "status": "completed"
    },
    "tags": []
   },
   "outputs": [
    {
     "data": {
      "text/plain": [
       "array([1968, 1969, 1970, 1971, 1972, 1973, 1974, 1975, 1976, 1977, 1978,\n",
       "       1979, 1980, 1981, 1982, 1983, 1984, 1985, 1986, 1987, 1988, 1989,\n",
       "       1990, 1991, 1992, 2022, 1993, 1994, 1995, 1996, 1997, 1998, 1999,\n",
       "       2000, 2001, 2002, 2003, 2004, 2005, 2006, 2007, 2008, 2009, 2010,\n",
       "       2011, 2012, 2013, 2014, 2015, 2016, 2017, 2018, 2019, 2020, 2021])"
      ]
     },
     "execution_count": 3,
     "metadata": {},
     "output_type": "execute_result"
    }
   ],
   "source": [
    "# Separates date and year into separate columns\n",
    "def get_year_from_date_read_column(date):\n",
    "    year_date_split = date.split('-')\n",
    "    if len(year_date_split) == 2:\n",
    "        year = int(year_date_split[1])\n",
    "        if year < 41: # Art's Year of Birth: 1941\n",
    "            return 2000 + int(year)\n",
    "        else :\n",
    "            return 1900 + int(year)\n",
    "    else:\n",
    "        return int(date)\n",
    "\n",
    "library_df['Year Read'] = library_df['Date Read'].apply(lambda date: get_year_from_date_read_column(date))\n",
    "library_df['Year Read'].unique()"
   ]
  },
  {
   "cell_type": "code",
   "execution_count": 4,
   "id": "d473788c",
   "metadata": {
    "execution": {
     "iopub.execute_input": "2023-09-11T19:46:59.760174Z",
     "iopub.status.busy": "2023-09-11T19:46:59.759751Z",
     "iopub.status.idle": "2023-09-11T19:46:59.772014Z",
     "shell.execute_reply": "2023-09-11T19:46:59.771219Z"
    },
    "papermill": {
     "duration": 0.022936,
     "end_time": "2023-09-11T19:46:59.774442",
     "exception": false,
     "start_time": "2023-09-11T19:46:59.751506",
     "status": "completed"
    },
    "tags": []
   },
   "outputs": [
    {
     "data": {
      "text/plain": [
       "array(['Jun', 'Jul', 'Aug', 'Sep', 'Oct', 'Nov', 'Dec', 'Jan', 'Feb',\n",
       "       'May', 'Mar', 'Apr', nan], dtype=object)"
      ]
     },
     "execution_count": 4,
     "metadata": {},
     "output_type": "execute_result"
    }
   ],
   "source": [
    "def get_month_from_date_read_column(date):\n",
    "    month_date_split = date.split('-')\n",
    "    if len(month_date_split) == 2:\n",
    "        return month_date_split[0]\n",
    "    else:\n",
    "        return np.nan\n",
    "\n",
    "library_df['Month Read'] = library_df['Date Read'].apply(lambda date: get_month_from_date_read_column(date))\n",
    "library_df['Month Read'].unique()"
   ]
  },
  {
   "cell_type": "code",
   "execution_count": 5,
   "id": "a2ba0320",
   "metadata": {
    "execution": {
     "iopub.execute_input": "2023-09-11T19:46:59.790247Z",
     "iopub.status.busy": "2023-09-11T19:46:59.789452Z",
     "iopub.status.idle": "2023-09-11T19:46:59.821999Z",
     "shell.execute_reply": "2023-09-11T19:46:59.820760Z"
    },
    "papermill": {
     "duration": 0.042941,
     "end_time": "2023-09-11T19:46:59.824368",
     "exception": false,
     "start_time": "2023-09-11T19:46:59.781427",
     "status": "completed"
    },
    "tags": []
   },
   "outputs": [
    {
     "data": {
      "text/html": [
       "<div>\n",
       "<style scoped>\n",
       "    .dataframe tbody tr th:only-of-type {\n",
       "        vertical-align: middle;\n",
       "    }\n",
       "\n",
       "    .dataframe tbody tr th {\n",
       "        vertical-align: top;\n",
       "    }\n",
       "\n",
       "    .dataframe thead th {\n",
       "        text-align: right;\n",
       "    }\n",
       "</style>\n",
       "<table border=\"1\" class=\"dataframe\">\n",
       "  <thead>\n",
       "    <tr style=\"text-align: right;\">\n",
       "      <th></th>\n",
       "      <th>Date Read</th>\n",
       "      <th>Author</th>\n",
       "      <th>Books</th>\n",
       "      <th>Year Published</th>\n",
       "      <th>Month Read</th>\n",
       "    </tr>\n",
       "  </thead>\n",
       "  <tbody>\n",
       "    <tr>\n",
       "      <th>count</th>\n",
       "      <td>1321</td>\n",
       "      <td>1321</td>\n",
       "      <td>1321</td>\n",
       "      <td>1321</td>\n",
       "      <td>1196</td>\n",
       "    </tr>\n",
       "    <tr>\n",
       "      <th>unique</th>\n",
       "      <td>494</td>\n",
       "      <td>966</td>\n",
       "      <td>1305</td>\n",
       "      <td>329</td>\n",
       "      <td>12</td>\n",
       "    </tr>\n",
       "    <tr>\n",
       "      <th>top</th>\n",
       "      <td>2008</td>\n",
       "      <td>William Shakespeare</td>\n",
       "      <td>The Confessions</td>\n",
       "      <td>1988</td>\n",
       "      <td>Dec</td>\n",
       "    </tr>\n",
       "    <tr>\n",
       "      <th>freq</th>\n",
       "      <td>34</td>\n",
       "      <td>15</td>\n",
       "      <td>3</td>\n",
       "      <td>21</td>\n",
       "      <td>123</td>\n",
       "    </tr>\n",
       "  </tbody>\n",
       "</table>\n",
       "</div>"
      ],
      "text/plain": [
       "       Date Read               Author            Books Year Published  \\\n",
       "count       1321                 1321             1321           1321   \n",
       "unique       494                  966             1305            329   \n",
       "top         2008  William Shakespeare  The Confessions           1988   \n",
       "freq          34                   15                3             21   \n",
       "\n",
       "       Month Read  \n",
       "count        1196  \n",
       "unique         12  \n",
       "top           Dec  \n",
       "freq          123  "
      ]
     },
     "execution_count": 5,
     "metadata": {},
     "output_type": "execute_result"
    }
   ],
   "source": [
    "library_df.describe(include=\"object\")"
   ]
  },
  {
   "cell_type": "code",
   "execution_count": 6,
   "id": "6d78ce13",
   "metadata": {
    "execution": {
     "iopub.execute_input": "2023-09-11T19:46:59.840965Z",
     "iopub.status.busy": "2023-09-11T19:46:59.840136Z",
     "iopub.status.idle": "2023-09-11T19:47:00.107331Z",
     "shell.execute_reply": "2023-09-11T19:47:00.106136Z"
    },
    "papermill": {
     "duration": 0.278403,
     "end_time": "2023-09-11T19:47:00.110167",
     "exception": false,
     "start_time": "2023-09-11T19:46:59.831764",
     "status": "completed"
    },
    "tags": []
   },
   "outputs": [
    {
     "data": {
      "image/png": "[encoded data removed]",
      "text/plain": [
       "<Figure size 640x480 with 1 Axes>"
      ]
     },
     "metadata": {},
     "output_type": "display_data"
    }
   ],
   "source": [
    "sns.countplot(y=library_df['Favorite'] ,data=library_df)\n",
    "plt.xlabel(\"# Favorite Books\")\n",
    "plt.ylabel(\"Art's Favorite Books?\")\n",
    "plt.show()"
   ]
  },
  {
   "cell_type": "code",
   "execution_count": 7,
   "id": "9df8776d",
   "metadata": {
    "execution": {
     "iopub.execute_input": "2023-09-11T19:47:00.126941Z",
     "iopub.status.busy": "2023-09-11T19:47:00.126548Z",
     "iopub.status.idle": "2023-09-11T19:47:00.646808Z",
     "shell.execute_reply": "2023-09-11T19:47:00.645638Z"
    },
    "papermill": {
     "duration": 0.531728,
     "end_time": "2023-09-11T19:47:00.649473",
     "exception": false,
     "start_time": "2023-09-11T19:47:00.117745",
     "status": "completed"
    },
    "tags": []
   },
   "outputs": [
    {
     "data": {
      "image/png": "[encoded data removed]",
      "text/plain": [
       "<Figure size 640x480 with 2 Axes>"
      ]
     },
     "metadata": {},
     "output_type": "display_data"
    }
   ],
   "source": [
    "library_df[['Pages', 'Year Read']].hist(bins = 15)\n",
    "plt.show()"
   ]
  },
  {
   "cell_type": "code",
   "execution_count": 8,
   "id": "f59ae02f",
   "metadata": {
    "execution": {
     "iopub.execute_input": "2023-09-11T19:47:00.670203Z",
     "iopub.status.busy": "2023-09-11T19:47:00.667853Z",
     "iopub.status.idle": "2023-09-11T19:47:01.589068Z",
     "shell.execute_reply": "2023-09-11T19:47:01.587794Z"
    },
    "papermill": {
     "duration": 0.934133,
     "end_time": "2023-09-11T19:47:01.592073",
     "exception": false,
     "start_time": "2023-09-11T19:47:00.657940",
     "status": "completed"
    },
    "tags": []
   },
   "outputs": [
    {
     "name": "stderr",
     "output_type": "stream",
     "text": [
      "/opt/conda/lib/python3.10/site-packages/seaborn/axisgrid.py:118: UserWarning: The figure layout has changed to tight\n",
      "  self._figure.tight_layout(*args, **kwargs)\n"
     ]
    },
    {
     "data": {
      "image/png": "[encoded data removed]",
      "text/plain": [
       "<Figure size 1000x500 with 2 Axes>"
      ]
     },
     "metadata": {},
     "output_type": "display_data"
    }
   ],
   "source": [
    "sns.displot(data=library_df, kind='hist', x=\"Year Read\", col=\"Favorite\", kde=True)\n",
    "plt.show()"
   ]
  },
  {
   "cell_type": "code",
   "execution_count": 9,
   "id": "fedf71c7",
   "metadata": {
    "execution": {
     "iopub.execute_input": "2023-09-11T19:47:01.612937Z",
     "iopub.status.busy": "2023-09-11T19:47:01.611931Z",
     "iopub.status.idle": "2023-09-11T19:47:01.626748Z",
     "shell.execute_reply": "2023-09-11T19:47:01.625960Z"
    },
    "papermill": {
     "duration": 0.027775,
     "end_time": "2023-09-11T19:47:01.629017",
     "exception": false,
     "start_time": "2023-09-11T19:47:01.601242",
     "status": "completed"
    },
    "tags": []
   },
   "outputs": [
    {
     "data": {
      "text/html": [
       "<div>\n",
       "<style scoped>\n",
       "    .dataframe tbody tr th:only-of-type {\n",
       "        vertical-align: middle;\n",
       "    }\n",
       "\n",
       "    .dataframe tbody tr th {\n",
       "        vertical-align: top;\n",
       "    }\n",
       "\n",
       "    .dataframe thead th {\n",
       "        text-align: right;\n",
       "    }\n",
       "</style>\n",
       "<table border=\"1\" class=\"dataframe\">\n",
       "  <thead>\n",
       "    <tr style=\"text-align: right;\">\n",
       "      <th></th>\n",
       "      <th>Author</th>\n",
       "      <th>Books</th>\n",
       "      <th>Year Published</th>\n",
       "      <th>Pages</th>\n",
       "      <th>Favorite</th>\n",
       "      <th>Year Read</th>\n",
       "      <th>Month Read</th>\n",
       "    </tr>\n",
       "  </thead>\n",
       "  <tbody>\n",
       "    <tr>\n",
       "      <th>0</th>\n",
       "      <td>Jean-Jacques Rousseau</td>\n",
       "      <td>The Confessions</td>\n",
       "      <td>1781</td>\n",
       "      <td>606</td>\n",
       "      <td>1</td>\n",
       "      <td>1968</td>\n",
       "      <td>Jun</td>\n",
       "    </tr>\n",
       "    <tr>\n",
       "      <th>1</th>\n",
       "      <td>Erich Fromm</td>\n",
       "      <td>The Art of Loving</td>\n",
       "      <td>1956</td>\n",
       "      <td>146</td>\n",
       "      <td>1</td>\n",
       "      <td>1968</td>\n",
       "      <td>Jun</td>\n",
       "    </tr>\n",
       "    <tr>\n",
       "      <th>2</th>\n",
       "      <td>Mark Twain</td>\n",
       "      <td>The Adventures of Huckleberry Finn</td>\n",
       "      <td>1884</td>\n",
       "      <td>288</td>\n",
       "      <td>0</td>\n",
       "      <td>1968</td>\n",
       "      <td>Jun</td>\n",
       "    </tr>\n",
       "    <tr>\n",
       "      <th>3</th>\n",
       "      <td>James Thurber</td>\n",
       "      <td>My Life and Hard Times</td>\n",
       "      <td>1933</td>\n",
       "      <td>115</td>\n",
       "      <td>0</td>\n",
       "      <td>1968</td>\n",
       "      <td>Jul</td>\n",
       "    </tr>\n",
       "    <tr>\n",
       "      <th>4</th>\n",
       "      <td>William Shakespeare</td>\n",
       "      <td>Romeo and Juliet</td>\n",
       "      <td>1596</td>\n",
       "      <td>146</td>\n",
       "      <td>0</td>\n",
       "      <td>1968</td>\n",
       "      <td>Jul</td>\n",
       "    </tr>\n",
       "  </tbody>\n",
       "</table>\n",
       "</div>"
      ],
      "text/plain": [
       "                  Author                               Books Year Published  \\\n",
       "0  Jean-Jacques Rousseau                     The Confessions           1781   \n",
       "1            Erich Fromm                   The Art of Loving           1956   \n",
       "2             Mark Twain  The Adventures of Huckleberry Finn           1884   \n",
       "3          James Thurber              My Life and Hard Times           1933   \n",
       "4    William Shakespeare                    Romeo and Juliet           1596   \n",
       "\n",
       "   Pages  Favorite  Year Read Month Read  \n",
       "0    606         1       1968        Jun  \n",
       "1    146         1       1968        Jun  \n",
       "2    288         0       1968        Jun  \n",
       "3    115         0       1968        Jul  \n",
       "4    146         0       1968        Jul  "
      ]
     },
     "execution_count": 9,
     "metadata": {},
     "output_type": "execute_result"
    }
   ],
   "source": [
    "library_df.drop(columns=['Date Read'], inplace=True)\n",
    "library_df.head()"
   ]
  },
  {
   "cell_type": "code",
   "execution_count": 10,
   "id": "ae682dd0",
   "metadata": {
    "execution": {
     "iopub.execute_input": "2023-09-11T19:47:01.650488Z",
     "iopub.status.busy": "2023-09-11T19:47:01.649182Z",
     "iopub.status.idle": "2023-09-11T19:47:01.770142Z",
     "shell.execute_reply": "2023-09-11T19:47:01.768600Z"
    },
    "papermill": {
     "duration": 0.134254,
     "end_time": "2023-09-11T19:47:01.772626",
     "exception": false,
     "start_time": "2023-09-11T19:47:01.638372",
     "status": "completed"
    },
    "tags": []
   },
   "outputs": [
    {
     "data": {
      "text/html": [
       "<div>\n",
       "<style scoped>\n",
       "    .dataframe tbody tr th:only-of-type {\n",
       "        vertical-align: middle;\n",
       "    }\n",
       "\n",
       "    .dataframe tbody tr th {\n",
       "        vertical-align: top;\n",
       "    }\n",
       "\n",
       "    .dataframe thead th {\n",
       "        text-align: right;\n",
       "    }\n",
       "</style>\n",
       "<table border=\"1\" class=\"dataframe\">\n",
       "  <thead>\n",
       "    <tr style=\"text-align: right;\">\n",
       "      <th></th>\n",
       "      <th>onehotencoder__Year Published_1,981</th>\n",
       "      <th>onehotencoder__Year Published_100</th>\n",
       "      <th>onehotencoder__Year Published_10bc</th>\n",
       "      <th>onehotencoder__Year Published_1180</th>\n",
       "      <th>onehotencoder__Year Published_1250</th>\n",
       "      <th>onehotencoder__Year Published_1298</th>\n",
       "      <th>onehotencoder__Year Published_130</th>\n",
       "      <th>onehotencoder__Year Published_1308</th>\n",
       "      <th>onehotencoder__Year Published_1314</th>\n",
       "      <th>onehotencoder__Year Published_1350</th>\n",
       "      <th>...</th>\n",
       "      <th>onehotencoder__Month Read_Jun</th>\n",
       "      <th>onehotencoder__Month Read_Mar</th>\n",
       "      <th>onehotencoder__Month Read_May</th>\n",
       "      <th>onehotencoder__Month Read_Nov</th>\n",
       "      <th>onehotencoder__Month Read_Oct</th>\n",
       "      <th>onehotencoder__Month Read_Sep</th>\n",
       "      <th>onehotencoder__Month Read_nan</th>\n",
       "      <th>standardscaler__Year Read</th>\n",
       "      <th>standardscaler__Pages</th>\n",
       "      <th>remainder__Favorite</th>\n",
       "    </tr>\n",
       "  </thead>\n",
       "  <tbody>\n",
       "    <tr>\n",
       "      <th>0</th>\n",
       "      <td>0.0</td>\n",
       "      <td>0.0</td>\n",
       "      <td>0.0</td>\n",
       "      <td>0.0</td>\n",
       "      <td>0.0</td>\n",
       "      <td>0.0</td>\n",
       "      <td>0.0</td>\n",
       "      <td>0.0</td>\n",
       "      <td>0.0</td>\n",
       "      <td>0.0</td>\n",
       "      <td>...</td>\n",
       "      <td>1.0</td>\n",
       "      <td>0.0</td>\n",
       "      <td>0.0</td>\n",
       "      <td>0.0</td>\n",
       "      <td>0.0</td>\n",
       "      <td>0.0</td>\n",
       "      <td>0.0</td>\n",
       "      <td>-2.005957</td>\n",
       "      <td>1.533102</td>\n",
       "      <td>1.0</td>\n",
       "    </tr>\n",
       "    <tr>\n",
       "      <th>1</th>\n",
       "      <td>0.0</td>\n",
       "      <td>0.0</td>\n",
       "      <td>0.0</td>\n",
       "      <td>0.0</td>\n",
       "      <td>0.0</td>\n",
       "      <td>0.0</td>\n",
       "      <td>0.0</td>\n",
       "      <td>0.0</td>\n",
       "      <td>0.0</td>\n",
       "      <td>0.0</td>\n",
       "      <td>...</td>\n",
       "      <td>1.0</td>\n",
       "      <td>0.0</td>\n",
       "      <td>0.0</td>\n",
       "      <td>0.0</td>\n",
       "      <td>0.0</td>\n",
       "      <td>0.0</td>\n",
       "      <td>0.0</td>\n",
       "      <td>-2.005957</td>\n",
       "      <td>-0.873984</td>\n",
       "      <td>1.0</td>\n",
       "    </tr>\n",
       "    <tr>\n",
       "      <th>2</th>\n",
       "      <td>0.0</td>\n",
       "      <td>0.0</td>\n",
       "      <td>0.0</td>\n",
       "      <td>0.0</td>\n",
       "      <td>0.0</td>\n",
       "      <td>0.0</td>\n",
       "      <td>0.0</td>\n",
       "      <td>0.0</td>\n",
       "      <td>0.0</td>\n",
       "      <td>0.0</td>\n",
       "      <td>...</td>\n",
       "      <td>1.0</td>\n",
       "      <td>0.0</td>\n",
       "      <td>0.0</td>\n",
       "      <td>0.0</td>\n",
       "      <td>0.0</td>\n",
       "      <td>0.0</td>\n",
       "      <td>0.0</td>\n",
       "      <td>-2.005957</td>\n",
       "      <td>-0.130927</td>\n",
       "      <td>0.0</td>\n",
       "    </tr>\n",
       "    <tr>\n",
       "      <th>3</th>\n",
       "      <td>0.0</td>\n",
       "      <td>0.0</td>\n",
       "      <td>0.0</td>\n",
       "      <td>0.0</td>\n",
       "      <td>0.0</td>\n",
       "      <td>0.0</td>\n",
       "      <td>0.0</td>\n",
       "      <td>0.0</td>\n",
       "      <td>0.0</td>\n",
       "      <td>0.0</td>\n",
       "      <td>...</td>\n",
       "      <td>0.0</td>\n",
       "      <td>0.0</td>\n",
       "      <td>0.0</td>\n",
       "      <td>0.0</td>\n",
       "      <td>0.0</td>\n",
       "      <td>0.0</td>\n",
       "      <td>0.0</td>\n",
       "      <td>-2.005957</td>\n",
       "      <td>-1.036200</td>\n",
       "      <td>0.0</td>\n",
       "    </tr>\n",
       "    <tr>\n",
       "      <th>4</th>\n",
       "      <td>0.0</td>\n",
       "      <td>0.0</td>\n",
       "      <td>0.0</td>\n",
       "      <td>0.0</td>\n",
       "      <td>0.0</td>\n",
       "      <td>0.0</td>\n",
       "      <td>0.0</td>\n",
       "      <td>0.0</td>\n",
       "      <td>0.0</td>\n",
       "      <td>0.0</td>\n",
       "      <td>...</td>\n",
       "      <td>0.0</td>\n",
       "      <td>0.0</td>\n",
       "      <td>0.0</td>\n",
       "      <td>0.0</td>\n",
       "      <td>0.0</td>\n",
       "      <td>0.0</td>\n",
       "      <td>0.0</td>\n",
       "      <td>-2.005957</td>\n",
       "      <td>-0.873984</td>\n",
       "      <td>0.0</td>\n",
       "    </tr>\n",
       "  </tbody>\n",
       "</table>\n",
       "<p>5 rows × 2616 columns</p>\n",
       "</div>"
      ],
      "text/plain": [
       "   onehotencoder__Year Published_1,981  onehotencoder__Year Published_100  \\\n",
       "0                                  0.0                                0.0   \n",
       "1                                  0.0                                0.0   \n",
       "2                                  0.0                                0.0   \n",
       "3                                  0.0                                0.0   \n",
       "4                                  0.0                                0.0   \n",
       "\n",
       "   onehotencoder__Year Published_10bc  onehotencoder__Year Published_1180  \\\n",
       "0                                 0.0                                 0.0   \n",
       "1                                 0.0                                 0.0   \n",
       "2                                 0.0                                 0.0   \n",
       "3                                 0.0                                 0.0   \n",
       "4                                 0.0                                 0.0   \n",
       "\n",
       "   onehotencoder__Year Published_1250  onehotencoder__Year Published_1298  \\\n",
       "0                                 0.0                                 0.0   \n",
       "1                                 0.0                                 0.0   \n",
       "2                                 0.0                                 0.0   \n",
       "3                                 0.0                                 0.0   \n",
       "4                                 0.0                                 0.0   \n",
       "\n",
       "   onehotencoder__Year Published_130  onehotencoder__Year Published_1308  \\\n",
       "0                                0.0                                 0.0   \n",
       "1                                0.0                                 0.0   \n",
       "2                                0.0                                 0.0   \n",
       "3                                0.0                                 0.0   \n",
       "4                                0.0                                 0.0   \n",
       "\n",
       "   onehotencoder__Year Published_1314  onehotencoder__Year Published_1350  \\\n",
       "0                                 0.0                                 0.0   \n",
       "1                                 0.0                                 0.0   \n",
       "2                                 0.0                                 0.0   \n",
       "3                                 0.0                                 0.0   \n",
       "4                                 0.0                                 0.0   \n",
       "\n",
       "   ...  onehotencoder__Month Read_Jun  onehotencoder__Month Read_Mar  \\\n",
       "0  ...                            1.0                            0.0   \n",
       "1  ...                            1.0                            0.0   \n",
       "2  ...                            1.0                            0.0   \n",
       "3  ...                            0.0                            0.0   \n",
       "4  ...                            0.0                            0.0   \n",
       "\n",
       "   onehotencoder__Month Read_May  onehotencoder__Month Read_Nov  \\\n",
       "0                            0.0                            0.0   \n",
       "1                            0.0                            0.0   \n",
       "2                            0.0                            0.0   \n",
       "3                            0.0                            0.0   \n",
       "4                            0.0                            0.0   \n",
       "\n",
       "   onehotencoder__Month Read_Oct  onehotencoder__Month Read_Sep  \\\n",
       "0                            0.0                            0.0   \n",
       "1                            0.0                            0.0   \n",
       "2                            0.0                            0.0   \n",
       "3                            0.0                            0.0   \n",
       "4                            0.0                            0.0   \n",
       "\n",
       "   onehotencoder__Month Read_nan  standardscaler__Year Read  \\\n",
       "0                            0.0                  -2.005957   \n",
       "1                            0.0                  -2.005957   \n",
       "2                            0.0                  -2.005957   \n",
       "3                            0.0                  -2.005957   \n",
       "4                            0.0                  -2.005957   \n",
       "\n",
       "   standardscaler__Pages  remainder__Favorite  \n",
       "0               1.533102                  1.0  \n",
       "1              -0.873984                  1.0  \n",
       "2              -0.130927                  0.0  \n",
       "3              -1.036200                  0.0  \n",
       "4              -0.873984                  0.0  \n",
       "\n",
       "[5 rows x 2616 columns]"
      ]
     },
     "execution_count": 10,
     "metadata": {},
     "output_type": "execute_result"
    }
   ],
   "source": [
    "numerical_cols = ['Year Read', 'Pages']\n",
    "categorical_cols = ['Year Published', 'Author', 'Books', 'Month Read']\n",
    "\n",
    "transformer = make_column_transformer(\n",
    "    (OneHotEncoder(sparse_output=False), categorical_cols),\n",
    "    (StandardScaler(), numerical_cols),\n",
    "    remainder=\"passthrough\")\n",
    "\n",
    "transformed = transformer.fit_transform(library_df)\n",
    "\n",
    "transformed_df = pd.DataFrame(transformed, columns=transformer.get_feature_names_out())\n",
    "transformed_df.head()"
   ]
  },
  {
   "cell_type": "code",
   "execution_count": null,
   "id": "db9cfe68",
   "metadata": {
    "execution": {
     "iopub.execute_input": "2023-09-11T19:46:12.448512Z",
     "iopub.status.busy": "2023-09-11T19:46:12.448071Z",
     "iopub.status.idle": "2023-09-11T19:46:12.459029Z",
     "shell.execute_reply": "2023-09-11T19:46:12.457777Z",
     "shell.execute_reply.started": "2023-09-11T19:46:12.448480Z"
    },
    "papermill": {
     "duration": 0.010093,
     "end_time": "2023-09-11T19:47:01.792992",
     "exception": false,
     "start_time": "2023-09-11T19:47:01.782899",
     "status": "completed"
    },
    "tags": []
   },
   "outputs": [],
   "source": []
  }
 ],
 "kernelspec": {
  "display_name": "Python 3",
  "language": "python",
  "name": "python3"
 },
 "language_info": {
  "codemirror_mode": {
   "name": "ipython",
   "version": 3
  },
  "file_extension": ".py",
  "mimetype": "text/x-python",
  "name": "python",
  "nbconvert_exporter": "python",
  "pygments_lexer": "ipython3",
  "version": "3.6.4"
 },
 "metadata": {
  "kernelspec": {
   "display_name": "Python 3",
   "language": "python",
   "name": "python3"
  },
  "language_info": {
   "codemirror_mode": {
    "name": "ipython",
    "version": 3
   },
   "file_extension": ".py",
   "mimetype": "text/x-python",
   "name": "python",
   "nbconvert_exporter": "python",
   "pygments_lexer": "ipython3",
   "version": "3.10.12"
  },
  "papermill": {
   "default_parameters": {},
   "duration": 9.00927,
   "end_time": "2023-09-11T19:47:02.424445",
   "environment_variables": {},
   "exception": null,
   "input_path": "__notebook__.ipynb",
   "output_path": "__notebook__.ipynb",
   "parameters": {},
   "start_time": "2023-09-11T19:46:53.415175",
   "version": "2.4.0"
  }
 },
 "nbformat": 4,
 "nbformat_minor": 5
}
